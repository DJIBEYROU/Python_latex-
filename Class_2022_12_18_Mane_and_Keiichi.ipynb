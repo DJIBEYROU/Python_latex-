{
 "cells": [
  {
   "cell_type": "markdown",
   "id": "510dea26",
   "metadata": {},
   "source": [
    "# Program 1 or 2 months once a week\n",
    "\n",
    "## Introction to Python (Variable and data type) \n",
    "## Discussion about Plan \n",
    "## Learn about HTML and CSS \n",
    "## create a website together \n",
    "## Install Python  or use Google colab\n",
    "\n",
    "## References  for improving your skills"
   ]
  },
  {
   "cell_type": "code",
   "execution_count": null,
   "id": "9e892190",
   "metadata": {},
   "outputs": [],
   "source": [
    "# comment  \n",
    "# This is a comment. Anything after # is ignored\n",
    "# Write notes about how your code works here\n",
    "\n",
    "'''\n",
    "ggg  \n",
    "ggg\n",
    "I’m a multi-line comment\n",
    "'''\n",
    "Other Escape Sequences\n",
    "\n",
    "Newline : \\n\n",
    "Backslash : \\\\\n",
    "Single Quote : \\’\n",
    "Backspace : \\b\n",
    "Tab : \\t\n",
    "\n",
    "There is no maximum value for an integer, as long as you have enough memory. \n",
    "You can however get a practical maximum size with this : \n",
    "'''\n"
   ]
  },
  {
   "cell_type": "code",
   "execution_count": 4,
   "id": "3bf11b05",
   "metadata": {},
   "outputs": [
    {
     "name": "stdout",
     "output_type": "stream",
     "text": [
      "30\n"
     ]
    }
   ],
   "source": [
    "# commDjibeyent \n",
    "my_name = 'Djibey'\n",
    "my_age = 30\n",
    "print(my_age)\n"
   ]
  },
  {
   "cell_type": "code",
   "execution_count": 5,
   "id": "8f5f6c5b",
   "metadata": {},
   "outputs": [
    {
     "name": "stdout",
     "output_type": "stream",
     "text": [
      "9223372036854775807\n"
     ]
    }
   ],
   "source": [
    "import sys\n",
    "\n",
    "\n",
    "print(sys.maxsize)\n",
    "\n",
    "# You can get the maximum size for a float like this\n",
    "#import sys\n",
    "#print(sys.float_info.max)\n",
    "\n"
   ]
  },
  {
   "cell_type": "code",
   "execution_count": 2,
   "id": "bf245f61",
   "metadata": {},
   "outputs": [
    {
     "name": "stdout",
     "output_type": "stream",
     "text": [
      "Hello Djibey\n"
     ]
    }
   ],
   "source": [
    "# Assigns the string of characters Derek to the variable named my_name\n",
    "my_name = \"Djibey\"\n",
    "\n",
    "my_age = 30\n",
    "# Outputs Hello Derek to the screen\n",
    "print(\"Hello\", my_name)\n",
    "#print(\"My age is \", my_age)"
   ]
  },
  {
   "cell_type": "code",
   "execution_count": 6,
   "id": "21b4d3ad",
   "metadata": {},
   "outputs": [
    {
     "name": "stdout",
     "output_type": "stream",
     "text": [
      "\"We never really grow up, we only learn how to act in public\" - Bryan White\n"
     ]
    }
   ],
   "source": [
    "# You can use \\\" when you want to use double quotes between double quotes\n",
    "# \\\" is known as an escape sequence\n",
    "print(\"\\\"We never really grow up, we only learn how to act in public\\\" - Bryan White\")\n"
   ]
  },
  {
   "cell_type": "code",
   "execution_count": 9,
   "id": "ed3afb65",
   "metadata": {},
   "outputs": [
    {
     "name": "stdout",
     "output_type": "stream",
     "text": [
      "2.2222222222222223\n"
     ]
    }
   ],
   "source": [
    "# Floats have 15 digits of precession\n",
    "f1 = 1.1111111111111111\n",
    "f2 = 1.1111111111111111\n",
    "f3 = f1 + f2\n",
    "print(f3)"
   ]
  },
  {
   "cell_type": "code",
   "execution_count": 10,
   "id": "e66dad58",
   "metadata": {},
   "outputs": [],
   "source": [
    "# This is a complex number\n",
    "Cn1 = 5 + 6j\n",
    "\n"
   ]
  },
  {
   "cell_type": "code",
   "execution_count": 11,
   "id": "31094cb1",
   "metadata": {},
   "outputs": [],
   "source": [
    "# A boolean data type can have either a value of True or False\n",
    "can_vote = True\n"
   ]
  },
  {
   "cell_type": "code",
   "execution_count": 12,
   "id": "e4fa1398",
   "metadata": {},
   "outputs": [],
   "source": [
    "\n",
    "# Python is dynamically typed. What that means is a variables data type is determined by the value you assign to it\n",
    "my_age = 43\n",
    "my_age = \"Dog\""
   ]
  },
  {
   "cell_type": "code",
   "execution_count": 13,
   "id": "f2d32858",
   "metadata": {},
   "outputs": [
    {
     "name": "stdout",
     "output_type": "stream",
     "text": [
      "Cast  <class 'int'>\n",
      "Cast 2  <class 'str'>\n",
      "Cast 3  <class 'str'>\n",
      "Cast 4  <class 'int'>\n",
      "Cast 5  <class 'float'>\n"
     ]
    }
   ],
   "source": [
    "# Casting allows you to convert from one type to another\n",
    "# float to int\n",
    "print(\"Cast \", type(int(5.4)))\n",
    "# float to string\n",
    "print(\"Cast 2 \", type(str(5.4)))\n",
    "# unicode character to string\n",
    "print(\"Cast 3 \", type(chr(97)))\n",
    "# character to unicode\n",
    "print(\"Cast 4 \", type(ord('a')))\n",
    "# integer to float\n",
    "print(\"Cast 5 \", type(float(2)))\n"
   ]
  },
  {
   "cell_type": "code",
   "execution_count": 14,
   "id": "3325c120",
   "metadata": {},
   "outputs": [],
   "source": [
    "# Variable names are case sensitive. For example Age is not the same as age.\n",
    "Age = 2\n",
    "Age = 3"
   ]
  },
  {
   "cell_type": "code",
   "execution_count": 15,
   "id": "33ac0e8f",
   "metadata": {},
   "outputs": [
    {
     "name": "stdout",
     "output_type": "stream",
     "text": [
      "1 + 2 = 3\n"
     ]
    }
   ],
   "source": [
    "# Make sure you are casting to the correct data type when working with variables\n",
    "# Make sure that you surround calculations with parentheses when they produce a single value\n",
    "num_1 = \"1\"\n",
    "num_2 = \"2\"\n",
    "print(\"1 + 2 =\", (int(num_1) + int(num_2)))"
   ]
  },
  {
   "cell_type": "code",
   "execution_count": 17,
   "id": "eaebf61f",
   "metadata": {},
   "outputs": [
    {
     "data": {
      "text/plain": [
       "'C:\\\\Users\\\\wyd295'"
      ]
     },
     "execution_count": 17,
     "metadata": {},
     "output_type": "execute_result"
    }
   ],
   "source": [
    "pwd"
   ]
  },
  {
   "cell_type": "code",
   "execution_count": null,
   "id": "f254a843",
   "metadata": {},
   "outputs": [],
   "source": []
  }
 ],
 "metadata": {
  "kernelspec": {
   "display_name": "Python 3 (ipykernel)",
   "language": "python",
   "name": "python3"
  },
  "language_info": {
   "codemirror_mode": {
    "name": "ipython",
    "version": 3
   },
   "file_extension": ".py",
   "mimetype": "text/x-python",
   "name": "python",
   "nbconvert_exporter": "python",
   "pygments_lexer": "ipython3",
   "version": "3.9.12"
  }
 },
 "nbformat": 4,
 "nbformat_minor": 5
}
