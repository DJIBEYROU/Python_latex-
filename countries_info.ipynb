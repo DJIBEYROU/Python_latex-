{
 "cells": [
  {
   "cell_type": "code",
   "execution_count": null,
   "id": "ce625489",
   "metadata": {},
   "outputs": [],
   "source": [
    "pip install countryinfo"
   ]
  },
  {
   "cell_type": "markdown",
   "id": "aeb6ed09",
   "metadata": {},
   "source": [
    "# Countryinfo in Python"
   ]
  },
  {
   "cell_type": "markdown",
   "id": "014c4c95",
   "metadata": {},
   "source": [
    "# Good luck to Senegal in the World cup"
   ]
  },
  {
   "cell_type": "code",
   "execution_count": null,
   "id": "4dfa036a",
   "metadata": {},
   "outputs": [],
   "source": [
    "from countryinfo import CountryInfo\n",
    "count = input('Enter the name of your country: ')\n",
    "country = CountryInfo(count)\n",
    "print('Capital is :',country.capital())\n",
    "print('Currency is :',country.currencies())\n",
    "print('Language are :',country.languages())\n",
    "print('Borders are :',country.borders())\n",
    "#print('Others names :',country.alt_spellings())\n",
    "print('provinces are :', country.provinces())\n",
    "print('Country info :', country.info())"
   ]
  },
  {
   "cell_type": "code",
   "execution_count": null,
   "id": "3acdcb29",
   "metadata": {},
   "outputs": [],
   "source": []
  },
  {
   "cell_type": "code",
   "execution_count": null,
   "id": "b304577c",
   "metadata": {},
   "outputs": [],
   "source": []
  }
 ],
 "metadata": {
  "kernelspec": {
   "display_name": "Python 3 (ipykernel)",
   "language": "python",
   "name": "python3"
  },
  "language_info": {
   "codemirror_mode": {
    "name": "ipython",
    "version": 3
   },
   "file_extension": ".py",
   "mimetype": "text/x-python",
   "name": "python",
   "nbconvert_exporter": "python",
   "pygments_lexer": "ipython3",
   "version": "3.9.12"
  }
 },
 "nbformat": 4,
 "nbformat_minor": 5
}
