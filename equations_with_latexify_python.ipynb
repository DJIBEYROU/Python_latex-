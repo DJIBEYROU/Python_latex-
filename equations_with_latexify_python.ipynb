{
 "cells": [
  {
   "cell_type": "code",
   "execution_count": 1,
   "id": "a2a15516",
   "metadata": {},
   "outputs": [
    {
     "name": "stdout",
     "output_type": "stream",
     "text": [
      "aX^2 +bX +c\n"
     ]
    },
    {
     "data": {
      "text/latex": [
       "$$ \\displaystyle \\mathrm{solution}(a, b, c)\\triangleq \\left\\{ \\begin{array}{ll} No.solution, & \\mathrm{if} \\ {\\delta}<0 \\\\ x=\\frac{-b}{2a}, & \\mathrm{if} \\ {\\delta}=0 \\\\ x=\\frac{-b + \\sqrt{b^{2} - 4ac}}{2a}, & \\mathrm{otherwise} \\end{array} \\right. $$"
      ],
      "text/plain": [
       "<latexify.core.with_latex.<locals>._LatexifiedFunction at 0x16a49653550>"
      ]
     },
     "execution_count": 1,
     "metadata": {},
     "output_type": "execute_result"
    }
   ],
   "source": [
    "import math\n",
    "import latexify\n",
    "@latexify.with_latex\n",
    "def solution(a, b, c):\n",
    "    if delta< 0 :\n",
    "        return No.solution\n",
    "    elif delta == 0:\n",
    "        return x == -b/(2*a)\n",
    "    else:\n",
    "        return x == (-b+ math.sqrt(b**2 - 4*a*c))/ (2*a)\n",
    "print(\"aX^2 +bX +c\")\n",
    "solution"
   ]
  },
  {
   "cell_type": "code",
   "execution_count": 2,
   "id": "d483177b",
   "metadata": {},
   "outputs": [
    {
     "name": "stdout",
     "output_type": "stream",
     "text": [
      "Résoudre le système d'équations\n"
     ]
    },
    {
     "data": {
      "text/latex": [
       "$$ \\displaystyle \\mathrm{f}(x, y, z)\\triangleq \\left\\{ \\begin{array}{ll} x + y=z, & \\mathrm{if} \\ \\left( x\\space,\\space y\\space,\\space z\\right) >0 \\\\ \\frac{1}{x} + \\frac{1}{y}=\\frac{1}{z}, & \\mathrm{otherwise} \\end{array} \\right. $$"
      ],
      "text/plain": [
       "<latexify.core.with_latex.<locals>._LatexifiedFunction at 0x16a4965d730>"
      ]
     },
     "execution_count": 2,
     "metadata": {},
     "output_type": "execute_result"
    }
   ],
   "source": [
    "@latexify.with_latex\n",
    "def f(x, y, z):\n",
    "    if (x, y, z) > 0:\n",
    "        return x + y ==z \n",
    "    else:\n",
    "        return (1/x + 1/y == 1/z )\n",
    "f"
   ]
  },
  {
   "cell_type": "code",
   "execution_count": 3,
   "id": "53312389",
   "metadata": {},
   "outputs": [
    {
     "data": {
      "text/plain": [
       "'C:\\\\Users\\\\wyd295'"
      ]
     },
     "execution_count": 3,
     "metadata": {},
     "output_type": "execute_result"
    }
   ],
   "source": [
    "pwd\n"
   ]
  },
  {
   "cell_type": "code",
   "execution_count": null,
   "id": "767d9cab",
   "metadata": {},
   "outputs": [],
   "source": []
  }
 ],
 "metadata": {
  "kernelspec": {
   "display_name": "Python 3",
   "language": "python",
   "name": "python3"
  },
  "language_info": {
   "codemirror_mode": {
    "name": "ipython",
    "version": 3
   },
   "file_extension": ".py",
   "mimetype": "text/x-python",
   "name": "python",
   "nbconvert_exporter": "python",
   "pygments_lexer": "ipython3",
   "version": "3.8.8"
  }
 },
 "nbformat": 4,
 "nbformat_minor": 5
}
