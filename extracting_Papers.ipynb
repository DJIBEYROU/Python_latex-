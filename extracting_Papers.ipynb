{
 "cells": [
  {
   "cell_type": "code",
   "execution_count": 27,
   "id": "6db0c416",
   "metadata": {},
   "outputs": [],
   "source": [
    "#import the liberary\n",
    "import requests\n",
    "from time import sleep \n",
    "import re\n",
    "import pandas as pd\n",
    "from bs4 import BeautifulSoup"
   ]
  },
  {
   "cell_type": "code",
   "execution_count": 28,
   "id": "2b516504",
   "metadata": {},
   "outputs": [],
   "source": [
    "#import the liberary\n",
    "import requests as rq\n",
    "from bs4 import BeautifulSoup as bs\n",
    "from urllib.parse import urlencode"
   ]
  },
  {
   "cell_type": "code",
   "execution_count": 29,
   "id": "bd9513d2",
   "metadata": {},
   "outputs": [],
   "source": [
    "# define header to access google scholar website\n",
    "headers = {'user-agent':'Mozilla/5.0 (Windows NT 10.0; Win64; x64) AppleWebKit/537.36 (KHTML, like Gecko) Chrome/91.0.4472.114 Safari/537.36'}"
   ]
  },
  {
   "cell_type": "code",
   "execution_count": 30,
   "id": "3942c899",
   "metadata": {},
   "outputs": [],
   "source": [
    "# this function for the getting inforamtion of the web page\n",
    "def get_paperinfo(paper_url):\n",
    "    response=requests.get(url,headers=headers)\n",
    "\n",
    "  # check successful response\n",
    "    if response.status_code != 200:\n",
    "        print('Status code:', response.status_code)\n",
    "        raise Exception('Failed to fetch web page ')\n",
    "\n",
    "       #parse using beautiful soup\n",
    "    paper_doc = BeautifulSoup(response.text,'html.parser')\n",
    " \n",
    "    return paper_doc"
   ]
  },
  {
   "cell_type": "code",
   "execution_count": 31,
   "id": "82d8ea14",
   "metadata": {},
   "outputs": [],
   "source": [
    "# this function for the extracting information of the tags\n",
    "def get_tags(doc):\n",
    "    paper_tag = doc.select('[data-lid]')\n",
    "    \n",
    "    #cite_tag = doc.select('[title=Cite] + a')\n",
    "    \n",
    "    #cite_tag = doc.find_all('a', text=re.compile(r'\\d+'))\n",
    "    #cite_tag = f\"https://scholar.google.com/scholar?q={doc}\"\n",
    "    #cite_tag = doc.find_all('a.gs_or_cit')\n",
    "    #cite_tag = doc.find_all('a', text=re.compile(r'\\d+'))\n",
    "    \n",
    "    cite_tag = doc.find_all('a', text=re.compile(r'^Cited by \\d+'))\n",
    "\n",
    "    #cite_tag = doc.find_all('#gs_res_ccl_mid .gs_nph+ a')['href']\n",
    "    \n",
    "    link_tag = doc.find_all('h3',{\"class\" : \"gs_rt\"})\n",
    "    author_tag = doc.find_all(\"div\", {\"class\": \"gs_a\"})\n",
    "\n",
    "    return paper_tag,cite_tag,link_tag,author_tag"
   ]
  },
  {
   "cell_type": "code",
   "execution_count": 32,
   "id": "edc2c26b",
   "metadata": {},
   "outputs": [],
   "source": [
    "# it will return the title of the paper\n",
    "def get_papertitle(paper_tag):\n",
    "  \n",
    "    paper_names = []\n",
    "  \n",
    "    for tag in paper_tag:\n",
    "        paper_names.append(tag.select('h3')[0].get_text())\n",
    "\n",
    "    return paper_names"
   ]
  },
  {
   "cell_type": "code",
   "execution_count": 33,
   "id": "024c286d",
   "metadata": {},
   "outputs": [],
   "source": [
    "def get_citecount(cite_tag):\n",
    "    citation_count = []\n",
    "    for tag in cite_tag:\n",
    "        cite_text = tag.text.strip()\n",
    "        tmp = re.search(r'\\d+', cite_text)\n",
    "        if tmp is None:\n",
    "            citation_count.append(0)\n",
    "        else:\n",
    "            citation_count.append(int(tmp.group()))\n",
    "# Check if there are citation tags with zero count\n",
    "    if len(cite_tag) == 0:\n",
    "            citation_count.append(0) \n",
    "    return citation_count"
   ]
  },
  {
   "cell_type": "code",
   "execution_count": 34,
   "id": "c526094e",
   "metadata": {},
   "outputs": [],
   "source": [
    "# def get_citecount(cite_tag):\n",
    "#     \"\"\"Finds all the citations in the document.\"\"\"\n",
    "#    # cite_tag = doc.find_all('a', text=re.compile(r'\\d+'))\n",
    "\n",
    "#     citations = []\n",
    "#     for cite_tag in cite_tag:\n",
    "#         # Check if the citation contains \"Cited by\"\n",
    "#         if \"Cited by\" in cite_tag.text:\n",
    "#             citations.append((cite_tag.text, cite_tag['href']))\n",
    "#         else:\n",
    "#             # If the citation does not contain \"Cited by\", assume that the\n",
    "#             # citation is just the number of citations.\n",
    "#             citations.append((cite_tag.text, 0))\n",
    "\n",
    "#     return citations"
   ]
  },
  {
   "cell_type": "code",
   "execution_count": 35,
   "id": "0bb2a246",
   "metadata": {},
   "outputs": [],
   "source": [
    "# function for the getting link information\n",
    "def get_link(link_tag):\n",
    "    links = []\n",
    "\n",
    "    for i in range(len(link_tag)) :\n",
    "        links.append(link_tag[i].a['href']) \n",
    "\n",
    "    return links "
   ]
  },
  {
   "cell_type": "code",
   "execution_count": 36,
   "id": "47db0499",
   "metadata": {},
   "outputs": [],
   "source": [
    "# function for the getting autho , year and publication information\n",
    "def get_author_year_publi_info(authors_tag):\n",
    "    years = []\n",
    "    publication = []\n",
    "    authors = []\n",
    "    for i in range(len(authors_tag)):\n",
    "        authortag_text = (authors_tag[i].text).split()\n",
    "        year = int(re.search(r'\\d+', authors_tag[i].text).group())\n",
    "        years.append(year)\n",
    "        publication.append(authortag_text[-1])\n",
    "        author = authortag_text[0] + ' ' + re.sub(',','', authortag_text[1])\n",
    "        authors.append(author)\n",
    "    return years , publication, authors"
   ]
  },
  {
   "cell_type": "code",
   "execution_count": 37,
   "id": "715415e9",
   "metadata": {},
   "outputs": [],
   "source": [
    "#a = {'Links' : lines ,'Titles' : titles , 'Singers': finalsingers , 'Albums':finalalbums , 'Years' : years}\n",
    "#df = pd.DataFrame.from_dict(a, orient='index')\n",
    "#df = df.transpose()"
   ]
  },
  {
   "cell_type": "code",
   "execution_count": 38,
   "id": "f59bbb3a",
   "metadata": {},
   "outputs": [],
   "source": [
    "# creating final repository\n",
    "paper_repos_dict = {\n",
    "                    'Paper Title' : [],\n",
    "                    'Year' : [],\n",
    "                    'Author' : [],\n",
    "                    'Citation' : [],\n",
    "                    'Publication' : [],\n",
    "                    'Url of paper' : [] }\n",
    "\n",
    "# adding information in repository\n",
    "def add_in_paper_repo(papername,year,author,cite, publication,link):\n",
    "    paper_repos_dict['Paper Title'].extend(papername)\n",
    "    paper_repos_dict['Year'].extend(year)\n",
    "    paper_repos_dict['Author'].extend(author)\n",
    "    paper_repos_dict['Citation'].extend(cite)\n",
    "    paper_repos_dict['Publication'].extend(publication)\n",
    "    paper_repos_dict['Url of paper'].extend(link)\n",
    "\n",
    "    return pd.DataFrame.from_dict(paper_repos_dict)"
   ]
  },
  {
   "cell_type": "code",
   "execution_count": 20,
   "id": "4082a44b",
   "metadata": {},
   "outputs": [],
   "source": [
    "for i in range (0,110,10):\n",
    "    url = \"https://scholar.google.com/scholar?hl=en&as_sdt=0%2C5&q=locational+marginal+price+LMP+&oq=\".format(i)\n",
    "\n",
    "  # function for the get content of each page\n",
    "    doc = get_paperinfo(url)\n",
    "    paper_tag,cite_tag,link_tag,author_tag = get_tags(doc)\n",
    "  \n",
    "  # paper title from each page\n",
    "    papername = get_papertitle(paper_tag)\n",
    "\n",
    "  # year , author , publication of the paper\n",
    "    year , publication , author = get_author_year_publi_info(author_tag)\n",
    "\n",
    "  # cite count of the paper \n",
    "    cite = get_citecount(cite_tag)\n",
    "\n",
    "  # url of the paper\n",
    "    link = get_link(link_tag)\n",
    "\n",
    "  # add in paper repo dict\n",
    "    final = add_in_paper_repo(papername, year, publication,cite, author, link)\n",
    "    #final = final.transpose()\n",
    "  \n",
    "  # use sleep to avoid status code 429\n",
    "    sleep(30)"
   ]
  },
  {
   "cell_type": "code",
   "execution_count": 21,
   "id": "bd6a5ada",
   "metadata": {},
   "outputs": [
    {
     "data": {
      "text/html": [
       "<div>\n",
       "<style scoped>\n",
       "    .dataframe tbody tr th:only-of-type {\n",
       "        vertical-align: middle;\n",
       "    }\n",
       "\n",
       "    .dataframe tbody tr th {\n",
       "        vertical-align: top;\n",
       "    }\n",
       "\n",
       "    .dataframe thead th {\n",
       "        text-align: right;\n",
       "    }\n",
       "</style>\n",
       "<table border=\"1\" class=\"dataframe\">\n",
       "  <thead>\n",
       "    <tr style=\"text-align: right;\">\n",
       "      <th></th>\n",
       "      <th>Paper Title</th>\n",
       "      <th>Year</th>\n",
       "      <th>Author</th>\n",
       "      <th>Citation</th>\n",
       "      <th>Publication</th>\n",
       "      <th>Url of paper</th>\n",
       "    </tr>\n",
       "  </thead>\n",
       "  <tbody>\n",
       "    <tr>\n",
       "      <th>0</th>\n",
       "      <td>[PDF][PDF] Locational Marginal Price (LMP) Ass...</td>\n",
       "      <td>2010</td>\n",
       "      <td>academia.edu</td>\n",
       "      <td>203</td>\n",
       "      <td>H Zeynal</td>\n",
       "      <td>https://www.academia.edu/download/48839157/Loc...</td>\n",
       "    </tr>\n",
       "    <tr>\n",
       "      <th>1</th>\n",
       "      <td>Impact of data quality on real-time locational...</td>\n",
       "      <td>2013</td>\n",
       "      <td>ieeexplore.ieee.org</td>\n",
       "      <td>128</td>\n",
       "      <td>L Jia</td>\n",
       "      <td>https://ieeexplore.ieee.org/abstract/document/...</td>\n",
       "    </tr>\n",
       "    <tr>\n",
       "      <th>2</th>\n",
       "      <td>Design and operation of the locational margina...</td>\n",
       "      <td>2010</td>\n",
       "      <td>IET</td>\n",
       "      <td>158</td>\n",
       "      <td>E Litvinov</td>\n",
       "      <td>https://digital-library.theiet.org/content/jou...</td>\n",
       "    </tr>\n",
       "    <tr>\n",
       "      <th>3</th>\n",
       "      <td>Continuous locational marginal pricing (CLMP)</td>\n",
       "      <td>2007</td>\n",
       "      <td>ieeexplore.ieee.org</td>\n",
       "      <td>128</td>\n",
       "      <td>F Li</td>\n",
       "      <td>https://ieeexplore.ieee.org/abstract/document/...</td>\n",
       "    </tr>\n",
       "    <tr>\n",
       "      <th>4</th>\n",
       "      <td>A novel policy for locational marginal price c...</td>\n",
       "      <td>2012</td>\n",
       "      <td>ieeexplore.ieee.org</td>\n",
       "      <td>155</td>\n",
       "      <td>K Shaloudegi</td>\n",
       "      <td>https://ieeexplore.ieee.org/abstract/document/...</td>\n",
       "    </tr>\n",
       "    <tr>\n",
       "      <th>5</th>\n",
       "      <td>Locational marginal pricing basics for restruc...</td>\n",
       "      <td>2009</td>\n",
       "      <td>ieeexplore.ieee.org</td>\n",
       "      <td>85</td>\n",
       "      <td>H Liu</td>\n",
       "      <td>https://ieeexplore.ieee.org/abstract/document/...</td>\n",
       "    </tr>\n",
       "    <tr>\n",
       "      <th>6</th>\n",
       "      <td>Assessment of transmission congestion cost and...</td>\n",
       "      <td>2004</td>\n",
       "      <td>ieeexplore.ieee.org</td>\n",
       "      <td>136</td>\n",
       "      <td>G Hamoud</td>\n",
       "      <td>https://ieeexplore.ieee.org/abstract/document/...</td>\n",
       "    </tr>\n",
       "    <tr>\n",
       "      <th>7</th>\n",
       "      <td>Introducing uncertainty components in location...</td>\n",
       "      <td>2019</td>\n",
       "      <td>ieeexplore.ieee.org</td>\n",
       "      <td>81</td>\n",
       "      <td>X Fang</td>\n",
       "      <td>https://ieeexplore.ieee.org/abstract/document/...</td>\n",
       "    </tr>\n",
       "    <tr>\n",
       "      <th>8</th>\n",
       "      <td>[HTML][HTML] Deregulated model and locational ...</td>\n",
       "      <td>2007</td>\n",
       "      <td>Elsevier</td>\n",
       "      <td>52</td>\n",
       "      <td>YR Sood</td>\n",
       "      <td>https://www.sciencedirect.com/science/article/...</td>\n",
       "    </tr>\n",
       "    <tr>\n",
       "      <th>9</th>\n",
       "      <td>Some observations on market clearing price and...</td>\n",
       "      <td>2005</td>\n",
       "      <td>ieeexplore.ieee.org</td>\n",
       "      <td>46</td>\n",
       "      <td>Z Li</td>\n",
       "      <td>https://ieeexplore.ieee.org/abstract/document/...</td>\n",
       "    </tr>\n",
       "  </tbody>\n",
       "</table>\n",
       "</div>"
      ],
      "text/plain": [
       "                                         Paper Title  Year  \\\n",
       "0  [PDF][PDF] Locational Marginal Price (LMP) Ass...  2010   \n",
       "1  Impact of data quality on real-time locational...  2013   \n",
       "2  Design and operation of the locational margina...  2010   \n",
       "3      Continuous locational marginal pricing (CLMP)  2007   \n",
       "4  A novel policy for locational marginal price c...  2012   \n",
       "5  Locational marginal pricing basics for restruc...  2009   \n",
       "6  Assessment of transmission congestion cost and...  2004   \n",
       "7  Introducing uncertainty components in location...  2019   \n",
       "8  [HTML][HTML] Deregulated model and locational ...  2007   \n",
       "9  Some observations on market clearing price and...  2005   \n",
       "\n",
       "                Author  Citation   Publication  \\\n",
       "0         academia.edu       203      H Zeynal   \n",
       "1  ieeexplore.ieee.org       128         L Jia   \n",
       "2                  IET       158    E Litvinov   \n",
       "3  ieeexplore.ieee.org       128          F Li   \n",
       "4  ieeexplore.ieee.org       155  K Shaloudegi   \n",
       "5  ieeexplore.ieee.org        85         H Liu   \n",
       "6  ieeexplore.ieee.org       136      G Hamoud   \n",
       "7  ieeexplore.ieee.org        81        X Fang   \n",
       "8             Elsevier        52       YR Sood   \n",
       "9  ieeexplore.ieee.org        46          Z Li   \n",
       "\n",
       "                                        Url of paper  \n",
       "0  https://www.academia.edu/download/48839157/Loc...  \n",
       "1  https://ieeexplore.ieee.org/abstract/document/...  \n",
       "2  https://digital-library.theiet.org/content/jou...  \n",
       "3  https://ieeexplore.ieee.org/abstract/document/...  \n",
       "4  https://ieeexplore.ieee.org/abstract/document/...  \n",
       "5  https://ieeexplore.ieee.org/abstract/document/...  \n",
       "6  https://ieeexplore.ieee.org/abstract/document/...  \n",
       "7  https://ieeexplore.ieee.org/abstract/document/...  \n",
       "8  https://www.sciencedirect.com/science/article/...  \n",
       "9  https://ieeexplore.ieee.org/abstract/document/...  "
      ]
     },
     "execution_count": 21,
     "metadata": {},
     "output_type": "execute_result"
    }
   ],
   "source": [
    "final[:10]"
   ]
  },
  {
   "cell_type": "code",
   "execution_count": 22,
   "id": "0bf3f3c5",
   "metadata": {},
   "outputs": [
    {
     "name": "stdout",
     "output_type": "stream",
     "text": [
      "10 10 10 10 10 10\n"
     ]
    }
   ],
   "source": [
    "#Verification for the len\n",
    "print(len(papername), len(year), len(publication), len(cite), len(author),  len( link))\n"
   ]
  },
  {
   "cell_type": "code",
   "execution_count": 23,
   "id": "6f397eb2",
   "metadata": {},
   "outputs": [
    {
     "data": {
      "text/plain": [
       "[203, 128, 158, 128, 155, 85, 136, 81, 52, 46]"
      ]
     },
     "execution_count": 23,
     "metadata": {},
     "output_type": "execute_result"
    }
   ],
   "source": [
    "cite"
   ]
  },
  {
   "cell_type": "code",
   "execution_count": 25,
   "id": "ae8d7104",
   "metadata": {},
   "outputs": [],
   "source": [
    "## Save as CSV file\n",
    "final.to_csv('Locational_marginal_price.csv', sep=',', index=False,header=True)"
   ]
  },
  {
   "cell_type": "code",
   "execution_count": null,
   "id": "44923df5",
   "metadata": {},
   "outputs": [],
   "source": []
  },
  {
   "cell_type": "code",
   "execution_count": null,
   "id": "d2d45435",
   "metadata": {},
   "outputs": [],
   "source": []
  }
 ],
 "metadata": {
  "kernelspec": {
   "display_name": "Python 3 (ipykernel)",
   "language": "python",
   "name": "python3"
  },
  "language_info": {
   "codemirror_mode": {
    "name": "ipython",
    "version": 3
   },
   "file_extension": ".py",
   "mimetype": "text/x-python",
   "name": "python",
   "nbconvert_exporter": "python",
   "pygments_lexer": "ipython3",
   "version": "3.9.16"
  }
 },
 "nbformat": 4,
 "nbformat_minor": 5
}
